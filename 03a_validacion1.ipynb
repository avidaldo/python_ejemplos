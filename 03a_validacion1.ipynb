{
  "cells": [
    {
      "cell_type": "markdown",
      "metadata": {},
      "source": [
        "## 1. El problema fundamental: Garantizar entradas correctas\n",
        "\n",
        "Supongamos que necesitamos desarrollar un programa simple para calcular el área de un rectángulo.\n",
        "El usuario debe proporcionar el largo y ancho, y ambos deben ser números positivos.\n",
        "\n",
        "Trabajaremos con este ejemplo, mejorándolo progresivamente."
      ]
    },
    {
      "cell_type": "markdown",
      "metadata": {},
      "source": [
        "### Versión 1: Implementación básica (sin validación)"
      ]
    },
    {
      "cell_type": "code",
      "execution_count": null,
      "metadata": {},
      "outputs": [],
      "source": [
        "print(\"Calculadora de Área de Rectángulo - Versión 1 (Sin validación)\")\n",
        "base = float(input(\"Ingrese la base del rectángulo: \"))\n",
        "altura = float(input(\"Ingrese la altura del rectángulo: \"))\n",
        "area = base * altura\n",
        "print(f\"El área del rectángulo es: {area} unidades cuadradas\")"
      ]
    },
    {
      "cell_type": "markdown",
      "metadata": {},
      "source": [
        "### Versión 2: Validación básica con try/except"
      ]
    },
    {
      "cell_type": "code",
      "execution_count": null,
      "metadata": {},
      "outputs": [],
      "source": [
        "\n",
        "print(\"Calculadora de Área de Rectángulo - Versión 2 (Validación básica con try/except)\")\n",
        "\n",
        "try:\n",
        "    base = float(input(\"Ingrese la base del rectángulo: \"))\n",
        "    altura = float(input(\"Ingrese la altura del rectángulo: \"))\n",
        "\n",
        "    # Calculamos y mostramos el resultado\n",
        "    area = base * altura\n",
        "    print(f\"El área del rectángulo es: {area} unidades cuadradas\")    \n",
        "except ValueError:\n",
        "    print(\"Error: Debe ingresar valores numéricos.\")\n"
      ]
    },
    {
      "cell_type": "markdown",
      "metadata": {},
      "source": [
        "### Reflexión:\n",
        "Hemos mejorado, pero aún tenemos problemas:\n",
        "1. Si el usuario ingresa un valor no numérico, recibe un mensaje de error, pero el programa termina sin darle otra oportunidad.\n",
        "2. No estamos validando que los valores sean positivos.\n",
        "3. Si el primer valor es correcto pero el segundo no, el programa falla sin usar el valor correcto que ya teníamos."
      ]
    },
    {
      "cell_type": "markdown",
      "metadata": {},
      "source": [
        "### 3. Mejora: Bucle para garantizar entrada correcta"
      ]
    },
    {
      "cell_type": "code",
      "execution_count": null,
      "metadata": {},
      "outputs": [],
      "source": [
        "# Obtenemos la base con validación\n",
        "while True:\n",
        "    try:\n",
        "        base = float(input(\"Ingrese la base del rectángulo: \"))\n",
        "        if base <= 0:\n",
        "            print(\"Error: La base debe ser un número positivo.\")\n",
        "            continue\n",
        "        break  # Si llegamos aquí, el valor es válido\n",
        "    except ValueError:\n",
        "        print(\"Error: Debe ingresar un valor numérico.\")\n",
        "# Obtenemos la altura con validación\n",
        "while True:\n",
        "    try:\n",
        "        altura = float(input(\"Ingrese la altura del rectángulo: \"))\n",
        "        if altura <= 0:\n",
        "            print(\"Error: La altura debe ser un número positivo.\")\n",
        "            continue\n",
        "        break  # Si llegamos aquí, el valor es válido\n",
        "    except ValueError:\n",
        "        print(\"Error: Debe ingresar un valor numérico.\")\n",
        "# Calculamos y mostramos el resultado\n",
        "area = base * altura\n",
        "print(f\"El área del rectángulo es: {area} unidades cuadradas\")"
      ]
    },
    {
      "cell_type": "markdown",
      "metadata": {},
      "source": [
        "### Reflexión:\n",
        "La versión 3 es mucho más robusta:\n",
        "1. Usa bucles `while` para seguir solicitando cada valor hasta que sea válido.\n",
        "2. Valida tanto el tipo de dato (mediante try/except) como el rango válido (debe ser positivo).\n",
        "3. El programa no avanza hasta tener un valor válido.\n",
        "\n",
        "Sin embargo, hay código repetitivo. Estamos usando el mismo patrón de validación para base y altura."
      ]
    },
    {
      "cell_type": "markdown",
      "metadata": {},
      "source": [
        "## 4. Mejora: Función de validación \n",
        "(Aún no hemos llegado)"
      ]
    },
    {
      "cell_type": "code",
      "execution_count": null,
      "metadata": {},
      "outputs": [],
      "source": [
        "def obtener_numero_positivo(mensaje):\n",
        "    \"\"\"Solicita un número y valida que sea positivo.\"\"\"\n",
        "    while True:\n",
        "        try:\n",
        "            valor = float(input(mensaje))\n",
        "            if valor <= 0:\n",
        "                print(\"Error: El valor debe ser un número positivo.\")\n",
        "                continue\n",
        "            return valor  # Devolvemos el valor válido\n",
        "        except ValueError:\n",
        "            print(\"Error: Debe ingresar un valor numérico.\")\n",
        "\n",
        "print(\"Calculadora de Área de Rectángulo - Versión 4 (Función de validación)\")\n",
        "base = obtener_numero_positivo(\"Ingrese la base del rectángulo: \")\n",
        "altura = obtener_numero_positivo(\"Ingrese la altura del rectángulo: \")\n",
        "area = base * altura\n",
        "print(f\"El área del rectángulo es: {area} unidades cuadradas\")\n"
      ]
    }
  ],
  "metadata": {
    "kernelspec": {
      "display_name": "Python 3",
      "language": "python",
      "name": "python3"
    },
    "language_info": {
      "codemirror_mode": {
        "name": "ipython",
        "version": 3
      },
      "file_extension": ".py",
      "mimetype": "text/x-python",
      "name": "python",
      "nbconvert_exporter": "python",
      "pygments_lexer": "ipython3",
      "version": "3.8.0"
    }
  },
  "nbformat": 4,
  "nbformat_minor": 4
}
