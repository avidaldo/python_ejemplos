{
 "cells": [
  {
   "cell_type": "markdown",
   "metadata": {},
   "source": [
    "# Errores comunes - Temas 3"
   ]
  },
  {
   "cell_type": "markdown",
   "metadata": {},
   "source": [
    "## Errores no controlados"
   ]
  },
  {
   "cell_type": "markdown",
   "metadata": {},
   "source": [
    "El usuario nunca debe ver errores no controlados:"
   ]
  },
  {
   "cell_type": "code",
   "execution_count": 1,
   "metadata": {},
   "outputs": [
    {
     "ename": "ValueError",
     "evalue": "invalid literal for int() with base 10: 'asd'",
     "output_type": "error",
     "traceback": [
      "\u001b[1;31m---------------------------------------------------------------------------\u001b[0m",
      "\u001b[1;31mValueError\u001b[0m                                Traceback (most recent call last)",
      "Cell \u001b[1;32mIn[1], line 3\u001b[0m\n\u001b[0;32m      1\u001b[0m \u001b[38;5;28;01mwhile\u001b[39;00m \u001b[38;5;28;01mTrue\u001b[39;00m:\n\u001b[0;32m      2\u001b[0m     num \u001b[38;5;241m=\u001b[39m \u001b[38;5;28minput\u001b[39m(\u001b[38;5;124m'\u001b[39m\u001b[38;5;124mDame un num:\u001b[39m\u001b[38;5;124m'\u001b[39m)\n\u001b[1;32m----> 3\u001b[0m     num \u001b[38;5;241m=\u001b[39m \u001b[38;5;28;43mint\u001b[39;49m\u001b[43m(\u001b[49m\u001b[43mnum\u001b[49m\u001b[43m)\u001b[49m\n",
      "\u001b[1;31mValueError\u001b[0m: invalid literal for int() with base 10: 'asd'"
     ]
    }
   ],
   "source": [
    "num = input('Dame un num:')\n",
    "num = int(num) # Si introduzco un valor no numérico, se produce un error"
   ]
  },
  {
   "cell_type": "markdown",
   "metadata": {},
   "source": [
    "Solución \"pidiendo permiso\":"
   ]
  },
  {
   "cell_type": "code",
   "execution_count": 1,
   "metadata": {},
   "outputs": [
    {
     "name": "stdout",
     "output_type": "stream",
     "text": [
      "ERROR: Escribe solo números enteros\n",
      "El número de teléfono es:  123\n"
     ]
    }
   ],
   "source": [
    "while True:\n",
    "    num = input('Dame un num:')\n",
    "    \n",
    "    if num.isdigit():\n",
    "        break\n",
    "    else:\n",
    "        print('ERROR: Escribe solo números enteros')\n",
    "\n",
    "\n",
    "num = int(num)\n",
    "print(\"El número de teléfono es: \", num)"
   ]
  },
  {
   "cell_type": "markdown",
   "metadata": {},
   "source": [
    "Solución \"pidiendo perdón\":"
   ]
  },
  {
   "cell_type": "code",
   "execution_count": 1,
   "metadata": {},
   "outputs": [
    {
     "name": "stdout",
     "output_type": "stream",
     "text": [
      "ERROR: Escribe solo números enteros\n",
      "El número de teléfono es:  123\n"
     ]
    }
   ],
   "source": [
    "while True:\n",
    "    num = input('Dame un num:')\n",
    "    try: \n",
    "        num = int(num)\n",
    "        break\n",
    "    except:\n",
    "        print('ERROR: Escribe solo números enteros')\n",
    "\n",
    "print(\"El número de teléfono es: \", num)"
   ]
  },
  {
   "cell_type": "markdown",
   "metadata": {},
   "source": [
    "\n",
    "## Menú para calcular el perímetro y área, de un círculo\n",
    "\n",
    "Utilizando *while* e *if-elif* crear un menú con las siguientes opciones:\n",
    "\n",
    "a) Radio de entrada.\n",
    "b) Mostrar perímetro.\n",
    "c) Mostrar área.\n",
    "q) Salir.\n",
    "\n",
    "Preguntar el radio al usuario.  Utilizar *try-except*, para comprobar que el usuario haya introducido un número, sino debe volver a pedirlo. Debe admitir el uso de la coma en formato decimal.\n",
    "\n",
    "El radio tendrá un valor predeterminado de 0.\n"
   ]
  },
  {
   "cell_type": "code",
   "execution_count": null,
   "metadata": {},
   "outputs": [],
   "source": [
    "from math import pi\n",
    "menu='''\n",
    "a) Introducir el radio\n",
    "b) Cálculo el perímetro\n",
    "c) Cálculo el área\n",
    "q) Salir\n",
    "'''\n",
    "r=0 # default radius value\n",
    "while True:\n",
    "    opcion=input(menu).lower()\n",
    "    if opcion=='a':\n",
    "        while True:\n",
    "            try:\n",
    "                r=float(input('Radio: ').replace(',','.'))\n",
    "                break\n",
    "            except:\n",
    "                print('El valor del radio debe ser un número')\n",
    "    elif opcion=='b':\n",
    "        print('El perímetro es: ',round(2*pi*r,2))\n",
    "    elif opcion=='c':\n",
    "        print('El área es: ',round(pi*r**2,2))\n",
    "    elif opcion=='q':\n",
    "        print('Salir')\n",
    "        break\n",
    "    else:\n",
    "        print('Tecleaste una opción incorrecta')"
   ]
  },
  {
   "cell_type": "markdown",
   "metadata": {},
   "source": [
    "Ampliado:"
   ]
  },
  {
   "cell_type": "code",
   "execution_count": null,
   "metadata": {},
   "outputs": [],
   "source": [
    "from math import pi\n",
    "\n",
    "r = 0\n",
    "\n",
    "while True:\n",
    "    print(\"\\n\" + \"=\" * 40)\n",
    "    print(\"      CALCULADORA DE CÍRCULOS\")\n",
    "    print(\"=\" * 40)\n",
    "    print(f\"Radio actual: {r}\")\n",
    "    print(\"-\" * 40)\n",
    "    print(\"a) Introducir el radio\")\n",
    "    print(\"b) Calcular el perímetro\")\n",
    "    print(\"c) Calcular el área\")\n",
    "    print(\"q) Salir\")\n",
    "    print(\"-\" * 40)\n",
    "    \n",
    "    opcion = input(\"Seleccione una opción: \").lower()\n",
    "    \n",
    "    if opcion == 'a':\n",
    "        try:\n",
    "            r = float(input('Introduzca el radio: ').replace(',', '.'))\n",
    "            if r < 0:\n",
    "                print('\\n⚠️  El radio no puede ser negativo.')\n",
    "                r = 0\n",
    "            else:\n",
    "                print(f'\\n✅ Radio establecido a {r}')\n",
    "        except ValueError:\n",
    "            print('\\n❌ Error: El valor del radio debe ser un número.')\n",
    "            \n",
    "    elif opcion == 'b':\n",
    "        if r == 0:\n",
    "            print('\\n⚠️  Primero debe introducir un radio válido.')\n",
    "        else:\n",
    "            perimetro = round(2 * pi * r, 2)\n",
    "            print(f'\\nEl perímetro del círculo es: {perimetro}')\n",
    "            \n",
    "    elif opcion == 'c':\n",
    "        if r == 0:\n",
    "            print('\\n⚠️  Primero debe introducir un radio válido.')\n",
    "        else:\n",
    "            area = round(pi * r**2, 2)\n",
    "            print(f'\\nEl área del círculo es: {area}')\n",
    "            \n",
    "    elif opcion == 'q':\n",
    "        print('\\n👋 ¡Gracias por usar la calculadora de círculos!')\n",
    "        break\n",
    "        \n",
    "    else:\n",
    "        print('\\n❌ Error: Opción incorrecta. Por favor, seleccione una opción válida.')\n",
    "    \n",
    "    if opcion != 'q':\n",
    "        input('\\nPresione Enter para continuar...')"
   ]
  }
 ],
 "metadata": {
  "kernelspec": {
   "display_name": "base",
   "language": "python",
   "name": "python3"
  },
  "language_info": {
   "codemirror_mode": {
    "name": "ipython",
    "version": 3
   },
   "file_extension": ".py",
   "mimetype": "text/x-python",
   "name": "python",
   "nbconvert_exporter": "python",
   "pygments_lexer": "ipython3",
   "version": "3.12.3"
  }
 },
 "nbformat": 4,
 "nbformat_minor": 2
}
