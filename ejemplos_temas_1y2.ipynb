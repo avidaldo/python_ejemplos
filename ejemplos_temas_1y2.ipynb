{
 "cells": [
  {
   "cell_type": "code",
   "execution_count": 6,
   "metadata": {},
   "outputs": [
    {
     "name": "stdout",
     "output_type": "stream",
     "text": [
      "es un numero\n"
     ]
    }
   ],
   "source": [
    "a = '3'\n",
    "\n",
    "if a.isdigit:\n",
    "    print('es un numero')"
   ]
  },
  {
   "cell_type": "code",
   "execution_count": 7,
   "metadata": {},
   "outputs": [
    {
     "name": "stdout",
     "output_type": "stream",
     "text": [
      "True\n",
      "True\n"
     ]
    }
   ],
   "source": [
    "print(bool(a.isdigit))\n",
    "print(bool(a.isdigit()))"
   ]
  },
  {
   "cell_type": "code",
   "execution_count": 8,
   "metadata": {},
   "outputs": [
    {
     "name": "stdout",
     "output_type": "stream",
     "text": [
      "es un numero\n",
      "True\n",
      "False\n"
     ]
    }
   ],
   "source": [
    "a = 'b'\n",
    "\n",
    "if a.isdigit:\n",
    "    print('es un numero')\n",
    "\n",
    "print(bool(a.isdigit))\n",
    "print(bool(a.isdigit()))"
   ]
  },
  {
   "cell_type": "code",
   "execution_count": null,
   "metadata": {},
   "outputs": [
    {
     "name": "stdout",
     "output_type": "stream",
     "text": [
      "True\n"
     ]
    },
    {
     "ename": "AssertionError",
     "evalue": "",
     "output_type": "error",
     "traceback": [
      "\u001b[1;31m---------------------------------------------------------------------------\u001b[0m",
      "\u001b[1;31mAssertionError\u001b[0m                            Traceback (most recent call last)",
      "Cell \u001b[1;32mIn[9], line 9\u001b[0m\n\u001b[0;32m      6\u001b[0m \u001b[38;5;28;01massert\u001b[39;00m (\u001b[38;5;124m'\u001b[39m\u001b[38;5;124m3\u001b[39m\u001b[38;5;124m'\u001b[39m\u001b[38;5;241m.\u001b[39misdigit() \u001b[38;5;241m==\u001b[39m \u001b[38;5;28;01mTrue\u001b[39;00m)\n\u001b[0;32m      7\u001b[0m \u001b[38;5;28;01massert\u001b[39;00m \u001b[38;5;124m'\u001b[39m\u001b[38;5;124m3\u001b[39m\u001b[38;5;124m'\u001b[39m\u001b[38;5;241m.\u001b[39misdigit()\n\u001b[1;32m----> 9\u001b[0m \u001b[38;5;28;01massert\u001b[39;00m \u001b[38;5;129;01mnot\u001b[39;00m \u001b[38;5;124m'\u001b[39m\u001b[38;5;124ma\u001b[39m\u001b[38;5;124m'\u001b[39m\u001b[38;5;241m.\u001b[39misdigit\n\u001b[0;32m     10\u001b[0m \u001b[38;5;28;01massert\u001b[39;00m \u001b[38;5;129;01mnot\u001b[39;00m \u001b[38;5;124m'\u001b[39m\u001b[38;5;124ma\u001b[39m\u001b[38;5;124m'\u001b[39m\u001b[38;5;241m.\u001b[39misdigit()\n",
      "\u001b[1;31mAssertionError\u001b[0m: "
     ]
    }
   ],
   "source": [
    "print(bool('3'.isdigit))\n",
    "\n",
    "\n",
    "assert ('3'.isdigit() == True)\n",
    "assert '3'.isdigit() ## Igual al anterior (True == True)\n",
    "\n",
    "# assert not 'a'.isdigit\n",
    "assert not 'a'.isdigit()"
   ]
  },
  {
   "cell_type": "code",
   "execution_count": 4,
   "metadata": {},
   "outputs": [
    {
     "name": "stdout",
     "output_type": "stream",
     "text": [
      "Es un número correcto\n",
      "No es un número correcto\n"
     ]
    }
   ],
   "source": [
    "# telefono = input('Teléfono:') # Comento el input para probar primero la lógica\n",
    "\n",
    "# Defino casos de pruebas\n",
    "telefono1 = '123456789'\n",
    "telefono2 = '1234567890' # NO\n",
    "telefono3 = '12345678'  # NO\n",
    "telefono4 = '12345678a' # NO\n",
    "\n",
    "if (len(telefono1) == 9 and telefono1.isdigit()):\n",
    "    print('Es un número correcto')\n",
    "else:\n",
    "    print('No es un número correcto')\n",
    "    \n",
    "if (len(telefono4) == 9 and telefono4.isdigit()):\n",
    "    print('Es un número correcto')\n",
    "else:\n",
    "    print('No es un número correcto')\n"
   ]
  },
  {
   "cell_type": "code",
   "execution_count": null,
   "metadata": {},
   "outputs": [],
   "source": [
    "\n",
    "calle = 'Calle de la Rosa'\n",
    "print(\"calle.isalpha():\", calle.isalpha(), type(calle.isalpha()))\n",
    "print(\"calle.replace(' ', ''):\", calle.replace(' ', ''), type(calle.replace(' ', '')))\n",
    "print(\"calle.replace(' ', '').isalpha():\", calle.replace(' ', '').isalpha(), type(calle.replace(' ', '').isalpha()))\n",
    "\n",
    "\n",
    "calle.replace(' ', '').isalpha()\n",
    "\n"
   ]
  }
 ],
 "metadata": {
  "kernelspec": {
   "display_name": "base",
   "language": "python",
   "name": "python3"
  },
  "language_info": {
   "codemirror_mode": {
    "name": "ipython",
    "version": 3
   },
   "file_extension": ".py",
   "mimetype": "text/x-python",
   "name": "python",
   "nbconvert_exporter": "python",
   "pygments_lexer": "ipython3",
   "version": "3.12.3"
  }
 },
 "nbformat": 4,
 "nbformat_minor": 2
}
