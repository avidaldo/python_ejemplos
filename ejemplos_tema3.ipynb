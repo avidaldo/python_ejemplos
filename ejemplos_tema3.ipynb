{
 "cells": [
  {
   "cell_type": "code",
   "execution_count": 1,
   "metadata": {},
   "outputs": [
    {
     "ename": "ValueError",
     "evalue": "invalid literal for int() with base 10: 'asd'",
     "output_type": "error",
     "traceback": [
      "\u001b[1;31m---------------------------------------------------------------------------\u001b[0m",
      "\u001b[1;31mValueError\u001b[0m                                Traceback (most recent call last)",
      "Cell \u001b[1;32mIn[1], line 3\u001b[0m\n\u001b[0;32m      1\u001b[0m \u001b[38;5;28;01mwhile\u001b[39;00m \u001b[38;5;28;01mTrue\u001b[39;00m:\n\u001b[0;32m      2\u001b[0m     num \u001b[38;5;241m=\u001b[39m \u001b[38;5;28minput\u001b[39m(\u001b[38;5;124m'\u001b[39m\u001b[38;5;124mDame un num:\u001b[39m\u001b[38;5;124m'\u001b[39m)\n\u001b[1;32m----> 3\u001b[0m     num \u001b[38;5;241m=\u001b[39m \u001b[38;5;28;43mint\u001b[39;49m\u001b[43m(\u001b[49m\u001b[43mnum\u001b[49m\u001b[43m)\u001b[49m\n",
      "\u001b[1;31mValueError\u001b[0m: invalid literal for int() with base 10: 'asd'"
     ]
    }
   ],
   "source": [
    "while True:\n",
    "    num = input('Dame un num:')\n",
    "    num = int(num)"
   ]
  },
  {
   "cell_type": "code",
   "execution_count": 1,
   "metadata": {},
   "outputs": [
    {
     "name": "stdout",
     "output_type": "stream",
     "text": [
      "ERROR: Escribe solo números enteros\n",
      "El número de teléfono es:  123\n"
     ]
    }
   ],
   "source": [
    "while True:\n",
    "    num = input('Dame un num:')\n",
    "    \n",
    "    if num.isdigit():\n",
    "        break\n",
    "    else:\n",
    "        print('ERROR: Escribe solo números enteros')\n",
    "\n",
    "\n",
    "num = int(num)\n",
    "\n",
    "print(\"El número de teléfono es: \", num)"
   ]
  },
  {
   "cell_type": "code",
   "execution_count": null,
   "metadata": {},
   "outputs": [
    {
     "name": "stdout",
     "output_type": "stream",
     "text": [
      "ERROR: Escribe solo números enteros\n",
      "ERROR: Escribe solo números enteros\n",
      "ERROR: Escribe solo números enteros\n",
      "ERROR: Escribe solo números enteros\n",
      "ERROR: Escribe solo números enteros\n",
      "ERROR: Escribe solo números enteros\n",
      "ERROR: Escribe solo números enteros\n",
      "ERROR: Escribe solo números enteros\n",
      "ERROR: Escribe solo números enteros\n",
      "ERROR: Escribe solo números enteros\n",
      "ERROR: Escribe solo números enteros\n",
      "ERROR: Escribe solo números enteros\n",
      "ERROR: Escribe solo números enteros\n",
      "ERROR: Escribe solo números enteros\n",
      "ERROR: Escribe solo números enteros\n",
      "ERROR: Escribe solo números enteros\n",
      "ERROR: Escribe solo números enteros\n",
      "ERROR: Escribe solo números enteros\n",
      "ERROR: Escribe solo números enteros\n",
      "ERROR: Escribe solo números enteros\n",
      "ERROR: Escribe solo números enteros\n"
     ]
    }
   ],
   "source": [
    "while True:\n",
    "    num = input('Dame un num:')\n",
    "    try: \n",
    "        num = int(num)\n",
    "        break\n",
    "    except:\n",
    "        print('ERROR: Escribe solo números enteros')\n",
    "\n",
    "\n",
    "\n",
    "print(\"El número de teléfono es: \", num)"
   ]
  },
  {
   "cell_type": "code",
   "execution_count": null,
   "metadata": {},
   "outputs": [],
   "source": [
    "from math import sqrt\n",
    "\n",
    "while True:\n",
    "    num = input('Dame unas coordenadas:')\n",
    "    num2 = input('Dame las otras coordenadas:')\n",
    "    \n",
    "    if (num.isdigit() and num2.isdigit()):\n",
    "        break\n",
    "    else:\n",
    "        print('ERROR: Escribe solo números enteros')\n",
    "\n",
    "\n",
    "# x1 = int(num1[0])\n",
    "\n",
    "x1, y1, z1 = int(num[0]), int(num[1]), int(num[2])\n",
    "x2, y2, z2 = int(num2[0]), int(num2[1]), int(num2[2])\n",
    "\n",
    "\n",
    "d = round(sqrt((x1-x2)**2 + pow(y1-y2,2) + pow(z1-z2,2)), 2)\n",
    "print(f'La distancia entre los puntos es: {d}')"
   ]
  }
 ],
 "metadata": {
  "kernelspec": {
   "display_name": "base",
   "language": "python",
   "name": "python3"
  },
  "language_info": {
   "codemirror_mode": {
    "name": "ipython",
    "version": 3
   },
   "file_extension": ".py",
   "mimetype": "text/x-python",
   "name": "python",
   "nbconvert_exporter": "python",
   "pygments_lexer": "ipython3",
   "version": "3.12.3"
  }
 },
 "nbformat": 4,
 "nbformat_minor": 2
}
