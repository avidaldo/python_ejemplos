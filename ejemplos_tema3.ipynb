{
 "cells": [
  {
   "cell_type": "code",
   "execution_count": null,
   "metadata": {},
   "outputs": [],
   "source": [
    "from math import sqrt\n",
    "\n",
    "while True:\n",
    "    num1 = input('Dame unas coordenadas:')\n",
    "    num2 = input('Dame las otras coordenadas:')\n",
    "    \n",
    "    if (num1.isdigit() and num2.isdigit()):\n",
    "        break\n",
    "    else:\n",
    "        print('ERROR: Escribe solo números enteros')\n",
    "\n",
    "\n",
    "# x1 = int(num1[0])\n",
    "\n",
    "x1, y1, z1 = int(num1[0]), int(num1[1]), int(num1[2])\n",
    "x2, y2, z2 = int(num2[0]), int(num2[1]), int(num2[2])\n",
    "\n",
    "\n",
    "d = round(sqrt((x1-x2)**2 + pow(y1-y2,2) + pow(z1-z2,2)), 2)\n",
    "print(f'La distancia entre los puntos es: {d}')"
   ]
  }
 ],
 "metadata": {
  "language_info": {
   "name": "python"
  }
 },
 "nbformat": 4,
 "nbformat_minor": 2
}
