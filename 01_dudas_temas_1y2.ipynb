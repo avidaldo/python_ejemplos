{
 "cells": [
  {
   "cell_type": "markdown",
   "metadata": {},
   "source": [
    "# Errores comunes - Temas 1 y 2"
   ]
  },
  {
   "cell_type": "markdown",
   "metadata": {},
   "source": [
    "## Llamar a un método de un objeto sin paréntesis"
   ]
  },
  {
   "cell_type": "markdown",
   "metadata": {},
   "source": [
    "Ejemplos de qué sucede si se usa `variable.isdigit` en lugar de `variable.isdigit()`. Lo lo mismo aplica para cualquier otro método o función. \n",
    "\n",
    "Hablamos de métodos cuando los llamamos desde un objeto (`variable.metodo()`; p.e. `a.isdigit()` o `a.lower()`) y de funciones cuando los llamamos directamente (`funcion(variable)`; p.e. `print(variable)` o `len(variable)`). Es importante no confundirlos para saber cómo tenemos que usarlos.\n",
    "\n",
    "En Python, cuando escribes `var1.isdigit` sin los paréntesis, no estás llamando al método, sino obteniendo una referencia a él. Las funciones y métodos en Python son objetos de primera clase, y todos los objetos (excepto algunos que explícitamente retornan False) se evalúan como True en un contexto booleano. Esto significa que la referencia al método siempre será verdadera, sin importar el contenido de var1.\n",
    "\n",
    "Para que se evalúe si la cadena consiste únicamente de dígitos, debes llamar al método con paréntesis: `var1.isdigit()`, lo que ejecuta la función y retorna el valor booleano esperado.\n",
    "\n",
    "> [!IMPORTANT]\n",
    "> Es importante probar nuestros programas pensando en los casos que deben dar error. Que un programa funcione para el caso típico en que todo va bien no demuestra que el programa sea correcto.\n"
   ]
  },
  {
   "cell_type": "code",
   "execution_count": 1,
   "metadata": {},
   "outputs": [
    {
     "name": "stdout",
     "output_type": "stream",
     "text": [
      "es un numero\n"
     ]
    }
   ],
   "source": [
    "a = '3'\n",
    "\n",
    "if a.isdigit:\n",
    "    print('es un numero')"
   ]
  },
  {
   "cell_type": "code",
   "execution_count": 2,
   "metadata": {},
   "outputs": [
    {
     "name": "stdout",
     "output_type": "stream",
     "text": [
      "True\n",
      "True\n"
     ]
    }
   ],
   "source": [
    "print(bool(a.isdigit))\n",
    "print(bool(a.isdigit()))"
   ]
  },
  {
   "cell_type": "code",
   "execution_count": 3,
   "metadata": {},
   "outputs": [
    {
     "name": "stdout",
     "output_type": "stream",
     "text": [
      "es un numero\n",
      "True\n",
      "False\n"
     ]
    }
   ],
   "source": [
    "a = 'b'\n",
    "\n",
    "if a.isdigit:\n",
    "    print('es un numero')\n",
    "\n",
    "print(bool(a.isdigit))\n",
    "print(bool(a.isdigit()))"
   ]
  },
  {
   "cell_type": "code",
   "execution_count": 4,
   "metadata": {},
   "outputs": [
    {
     "name": "stdout",
     "output_type": "stream",
     "text": [
      "True\n"
     ]
    }
   ],
   "source": [
    "print(bool('3'.isdigit))\n",
    "\n",
    "\n",
    "assert ('3'.isdigit() == True)\n",
    "assert '3'.isdigit() ## Igual al anterior (True == True)\n",
    "\n",
    "# assert not 'a'.isdigit\n",
    "assert not 'a'.isdigit()"
   ]
  },
  {
   "cell_type": "markdown",
   "metadata": {},
   "source": [
    "Extra: Los assert son una forma de verificar que el código se comporta como lo esperamos. Si la expresión después del assert es False, el programa se detiene y muestra un mensaje de error. Es una forma simple y rápida de verificar que el código se comporta como lo esperamos."
   ]
  },
  {
   "cell_type": "code",
   "execution_count": 5,
   "metadata": {},
   "outputs": [
    {
     "ename": "AssertionError",
     "evalue": "",
     "output_type": "error",
     "traceback": [
      "\u001b[1;31m---------------------------------------------------------------------------\u001b[0m",
      "\u001b[1;31mAssertionError\u001b[0m                            Traceback (most recent call last)",
      "Cell \u001b[1;32mIn[5], line 2\u001b[0m\n\u001b[0;32m      1\u001b[0m \u001b[38;5;28;01massert\u001b[39;00m \u001b[38;5;28;01mTrue\u001b[39;00m\n\u001b[1;32m----> 2\u001b[0m \u001b[38;5;28;01massert\u001b[39;00m \u001b[38;5;28;01mFalse\u001b[39;00m\n",
      "\u001b[1;31mAssertionError\u001b[0m: "
     ]
    }
   ],
   "source": [
    "assert True\n",
    "assert False"
   ]
  },
  {
   "cell_type": "markdown",
   "metadata": {},
   "source": [
    "## Definiendo casos de prueba"
   ]
  },
  {
   "cell_type": "markdown",
   "metadata": {},
   "source": [
    "Es buena práctica definir primero los casos de prueba y luego escribir el código que lo pase:"
   ]
  },
  {
   "cell_type": "code",
   "execution_count": 6,
   "metadata": {},
   "outputs": [
    {
     "name": "stdout",
     "output_type": "stream",
     "text": [
      "Es un número correcto\n",
      "No es un número correcto\n"
     ]
    }
   ],
   "source": [
    "# telefono = input('Teléfono:') # Comento el input para probar primero la lógica\n",
    "\n",
    "# Defino casos de pruebas\n",
    "telefono1 = '123456789'\n",
    "telefono2 = '1234567890' # NO\n",
    "telefono3 = '12345678'  # NO\n",
    "telefono4 = '12345678a' # NO\n",
    "\n",
    "if (len(telefono1) == 9 and telefono1.isdigit()):\n",
    "    print('Es un número correcto')\n",
    "else:\n",
    "    print('No es un número correcto')\n",
    "    \n",
    "if (len(telefono4) == 9 and telefono4.isdigit()):\n",
    "    print('Es un número correcto')\n",
    "else:\n",
    "    print('No es un número correcto')\n"
   ]
  },
  {
   "cell_type": "markdown",
   "metadata": {},
   "source": [
    "Una forma más elegante de hacerlo (**adelatándonos a cosas que veremos más adelante**):"
   ]
  },
  {
   "cell_type": "code",
   "execution_count": 7,
   "metadata": {},
   "outputs": [
    {
     "name": "stdout",
     "output_type": "stream",
     "text": [
      "El teléfono 123456789 es correcto\n",
      "El teléfono 1234567890 es incorrecto\n",
      "El teléfono 12345678 es incorrecto\n",
      "El teléfono 12345678a es incorrecto\n"
     ]
    }
   ],
   "source": [
    "# Lista de casos de prueba\n",
    "casos_de_prueba = [\n",
    "    '123456789',\n",
    "    '1234567890',\n",
    "    '12345678',\n",
    "    '12345678a'\n",
    "]\n",
    "\n",
    "# Defino mi propia función que recibe un teléfono y lo valida\n",
    "def validar_telefono(telefono):\n",
    "    if (len(telefono) == 9 and telefono.isdigit()):\n",
    "        print(f'El teléfono {telefono} es correcto')\n",
    "    else:\n",
    "        print(f'El teléfono {telefono} es incorrecto')\n",
    "\n",
    "# Ejecuto la función para cada caso de prueba (usando un bucle)\n",
    "for telefono in casos_de_prueba:\n",
    "    validar_telefono(telefono)"
   ]
  },
  {
   "cell_type": "markdown",
   "metadata": {},
   "source": [
    "Ahora que la lógica de mi programa es robusta, puedo usarla para validar cualquier teléfono:"
   ]
  },
  {
   "cell_type": "code",
   "execution_count": 8,
   "metadata": {},
   "outputs": [
    {
     "name": "stdout",
     "output_type": "stream",
     "text": [
      "El teléfono asdfsadfasdf es incorrecto\n"
     ]
    }
   ],
   "source": [
    "telefono = input('Escribe un teléfono:')\n",
    "validar_telefono(telefono)"
   ]
  },
  {
   "cell_type": "markdown",
   "metadata": {},
   "source": [
    "## Confundiendo métodos que retornan valores booleanos con otros que devuelven la variable modificada\n"
   ]
  },
  {
   "cell_type": "code",
   "execution_count": 9,
   "metadata": {},
   "outputs": [
    {
     "name": "stdout",
     "output_type": "stream",
     "text": [
      "Calle de la Rosa\n",
      "calle.isalpha() False <class 'bool'>\n",
      "calle.replace(' ', ''): CalledelaRosa <class 'str'>\n",
      "calle.replace(' ', '').isalpha(): True <class 'bool'>\n"
     ]
    },
    {
     "data": {
      "text/plain": [
       "True"
      ]
     },
     "execution_count": 9,
     "metadata": {},
     "output_type": "execute_result"
    }
   ],
   "source": [
    "calle = 'Calle de la Rosa'\n",
    "calle.replace(' ', '') # Toda esta expresión retorna una nueva cadena modificada\n",
    "print(calle) # Pero la variable original no cambia\n",
    "\n",
    "print(\"calle.isalpha()\", calle.isalpha(), type(calle.isalpha())) # isalpha() retorna un booleano\n",
    "print(\"calle.replace(' ', ''):\", calle.replace(' ', ''), type(calle.replace(' ', ''))) # replace() retorna una nueva cadena\n",
    "print(\"calle.replace(' ', '').isalpha():\", calle.replace(' ', '').isalpha(), type(calle.replace(' ', '').isalpha())) # primero se ejecuta replace() y luego isalpha() sobre la nueva cadena\n",
    "\n",
    "\n",
    "calle.replace(' ', '').isalpha()\n"
   ]
  }
 ],
 "metadata": {
  "kernelspec": {
   "display_name": "base",
   "language": "python",
   "name": "python3"
  },
  "language_info": {
   "codemirror_mode": {
    "name": "ipython",
    "version": 3
   },
   "file_extension": ".py",
   "mimetype": "text/x-python",
   "name": "python",
   "nbconvert_exporter": "python",
   "pygments_lexer": "ipython3",
   "version": "3.12.3"
  }
 },
 "nbformat": 4,
 "nbformat_minor": 2
}
