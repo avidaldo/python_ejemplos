{
 "cells": [
  {
   "cell_type": "markdown",
   "metadata": {},
   "source": [
    "# Funciones en Python - Argumentos vs. Variables Globales"
   ]
  },
  {
   "cell_type": "markdown",
   "metadata": {},
   "source": [
    "Este documento explora la diferencia entre acceder a variables globales directamente desde funciones y pasar datos a través de argumentos. Se argumenta por qué la segunda aproximación es preferible para un código más robusto y mantenible, usando ejemplos con listas."
   ]
  },
  {
   "cell_type": "markdown",
   "metadata": {},
   "source": [
    "## El Acceso Directo a Variables Globales (Enfoque Problemático)"
   ]
  },
  {
   "cell_type": "markdown",
   "metadata": {},
   "source": [
    "Una variable global se define fuera de cualquier función y es accesible desde cualquier parte del programa, incluidas las funciones. El acceso directo implica que una función utiliza o modifica una variable global por su nombre sin que esta le sea proporcionada explícitamente como entrada."
   ]
  },
  {
   "cell_type": "code",
   "execution_count": null,
   "metadata": {},
   "outputs": [],
   "source": [
    "# Variable global que actua como 'base de datos'\n",
    "lista_estudiantes = [\"Ana\", \"Luis\", \"Maria\"]\n",
    "\n",
    "# Funcion que accede directamente a la variable global\n",
    "def mostrar_estudiantes_global():\n",
    "    print(\"--- Lista de Estudiantes (global) ---\")\n",
    "    if not lista_estudiantes:\n",
    "        print(\"No hay estudiantes.\")\n",
    "    else:\n",
    "        for estudiante in lista_estudiantes:\n",
    "            print(f\"- {estudiante}\")\n",
    "    print(\"-----------------------------------\")\n",
    "\n",
    "# Funcion para anadir que modifica la variable global directamente\n",
    "def anadir_estudiante_global(nombre):\n",
    "    print(f\"\\nAnadiendo '{nombre}' a la lista global...\")\n",
    "    lista_estudiantes.append(nombre)\n",
    "    print(\"Anadido!\")\n",
    "\n",
    "# Ejemplo de uso\n",
    "mostrar_estudiantes_global()\n",
    "anadir_estudiante_global(\"Pedro\")\n",
    "mostrar_estudiantes_global()\n"
   ]
  },
  {
   "cell_type": "markdown",
   "metadata": {},
   "source": [
    "## Inconvenientes del Acceso Directo a Globales"
   ]
  },
  {
   "cell_type": "markdown",
   "metadata": {},
   "source": [
    "Este enfoque introduce varias limitaciones y problemas potenciales:\n",
    "\n",
    "* **Acoplamiento Fuerte:** La función queda rígidamente vinculada a una variable global específica por nombre. No puede operar fácilmente con otros datos (por ejemplo, otra lista de profesores).\n",
    "* **Menor Claridad:** No es evidente al leer la firma de la función qué datos externos utiliza o modifica. Se requiere inspeccionar el cuerpo de la función para identificar las dependencias globales.\n",
    "* **Dificultad para Probar:** Probar la función requiere manipular el estado global antes de cada ejecución, lo que complica la creación de pruebas unitarias aisladas.\n",
    "* **Riesgo de Efectos Secundarios No Deseados:** Múltiples funciones modificando el mismo estado global pueden llevar a un comportamiento impredecible y a errores difíciles de depurar."
   ]
  },
  {
   "cell_type": "markdown",
   "metadata": {},
   "source": [
    "## La Solución: Paso de Argumentos"
   ]
  },
  {
   "cell_type": "markdown",
   "metadata": {},
   "source": [
    "La práctica recomendada es que las funciones reciban los datos con los que operan a través de **parámetros**. Al llamar a la función, se le pasan los **argumentos** correspondientes (las variables o valores que contienen los datos).\n",
    "\n",
    "La función trabaja entonces con una referencia a los datos proporcionados. En el caso de listas (objetos mutables en Python), las modificaciones realizadas dentro de la función persisten en la lista original pasada como argumento."
   ]
  },
  {
   "cell_type": "code",
   "execution_count": null,
   "metadata": {},
   "outputs": [],
   "source": [
    "# Variables que contienen datos (pueden ser globales o locales)\n",
    "lista_estudiantes = [\"Ana\", \"Luis\", \"Maria\"]\n",
    "lista_profesores = [\"Juan\", \"Elena\", \"Carlos\"]\n",
    "\n",
    "# Funcion que recibe la lista como argumento (parametro 'lista')\n",
    "def mostrar_lista(lista):\n",
    "    print(\"--- Contenido de la Lista ---\")\n",
    "    if not lista:\n",
    "        print(\"La lista esta vacia.\")\n",
    "    else:\n",
    "        for item in lista:\n",
    "            print(f\"- {item}\")\n",
    "    print(\"----------------------------\")\n",
    "\n",
    "# Funcion para anadir que recibe la lista y el item como argumentos\n",
    "def anadir_a_lista(lista, item):\n",
    "    print(f\"\\nAnadiendo '{item}' a la lista...\")\n",
    "    lista.append(item) # Modifica la lista pasada como argumento\n",
    "    print(\"Anadido!\")\n",
    "\n",
    "# Ejemplo de uso pasando diferentes listas\n",
    "print(\"Mostrando lista de estudiantes:\")\n",
    "mostrar_lista(lista_estudiantes) # Pasamos lista_estudiantes\n",
    "\n",
    "print(\"\\nMostrando lista de profesores:\")\n",
    "mostrar_lista(lista_profesores) # Pasamos lista_profesores\n",
    "\n",
    "print(\"\\nLista de estudiantes antes:\", lista_estudiantes)\n",
    "anadir_a_lista(lista_estudiantes, \"Pedro\") # Pasamos lista_estudiantes\n",
    "print(\"Lista de estudiantes despues:\", lista_estudiantes)\n",
    "\n",
    "print(\"\\nLista de profesores antes:\", lista_profesores)\n",
    "anadir_a_lista(lista_profesores, \"Sofia\") # Pasamos lista_profesores\n",
    "print(\"Lista de profesores despues:\", lista_profesores)\n"
   ]
  },
  {
   "cell_type": "markdown",
   "metadata": {},
   "source": [
    "## Ventajas del Paso de Argumentos"
   ]
  },
  {
   "cell_type": "markdown",
   "metadata": {},
   "source": [
    "Adoptar el paso de argumentos confiere importantes beneficios:\n",
    "\n",
    "* **Reusabilidad:** Las funciones se vuelven genéricas y pueden operar sobre cualquier dato del tipo esperado, sin depender de nombres de variables específicos.\n",
    "* **Claridad y Legibilidad:** La interfaz de la función (su firma) declara explícitamente los datos que necesita, facilitando la comprensión de su propósito y dependencias.\n",
    "* **Facilidad para Pruebas Unitarias:** Las funciones pueden probarse de forma aislada simplemente proporcionando diferentes argumentos de entrada, sin necesidad de configurar un estado global complejo.\n",
    "* **Reducción del Acoplamiento y Efectos Secundarios:** El código se vuelve más modular. Las modificaciones se aplican a los datos explícitamente pasados, reduciendo el riesgo de cambios inesperados en el estado global por funciones no relacionadas."
   ]
  },
  {
   "cell_type": "markdown",
   "metadata": {},
   "source": [
    "## Conclusion"
   ]
  },
  {
   "cell_type": "markdown",
   "metadata": {},
   "source": [
    "Aunque el acceso directo a variables globales puede parecer conveniente inicialmente, especialmente con datos simples como listas pequeñas, el paso de argumentos es una práctica de programación fundamental que promueve la reusabilidad, claridad, testabilidad y modularidad del código. Siempre que una función necesite operar con datos externos, la aproximación correcta es recibir dichos datos como argumentos."
   ]
  }
 ],
 "metadata": {
  "kernelspec": {
   "display_name": "Python 3",
   "language": "python",
   "name": "python3"
  },
  "language_info": {
   "codemirror_mode": {
    "name": "ipython",
    "version": 3
   },
   "file_extension": ".py",
   "mimetype": "text/x-python",
   "name": "python",
   "nbconvert_exporter": "python",
   "pygments_lexer": "ipython3",
   "version": "3.10.12"
  }
 },
 "nbformat": 4,
 "nbformat_minor": 4
}
