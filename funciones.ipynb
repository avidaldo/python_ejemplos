{
 "cells": [
  {
   "cell_type": "markdown",
   "metadata": {},
   "source": [
    "# Introducción a las Funciones en Python\n",
    "\n",
    "Las funciones son bloques de código reutilizables que realizan una tarea específica. Permiten organizar el código, hacerlo más legible y evitar la repetición.\n",
    "\n",
    "**Sintaxis básica:**\n",
    "```python\n",
    "def nombre_de_la_funcion(parametros):\n",
    "    # Cuerpo de la función (código a ejecutar)\n",
    "    # ...\n",
    "    return valor_de_retorno # Opcional\n",
    "```\n",
    "\n",
    "- `def`: Palabra clave para definir una función.\n",
    "- `nombre_de_la_funcion`: Nombre descriptivo para la función.\n",
    "- `parametros`: Variables que la función puede recibir (opcional).\n",
    "- `:`: Marca el inicio del bloque de código de la función.\n",
    "- Cuerpo de la función: Código indentado que se ejecutará.\n",
    "- `return`: Palabra clave para devolver un valor desde la función (opcional)."
   ]
  },
  {
   "cell_type": "markdown",
   "metadata": {},
   "source": [
    "## 1. Función simple sin parámetros ni valor de retorno\n",
    "\n",
    "Esta es la forma más básica de una función. Simplemente ejecuta un bloque de código cuando es llamada. Útil para tareas repetitivas que no necesitan datos externos ni devuelven un resultado."
   ]
  },
  {
   "cell_type": "code",
   "execution_count": 9,
   "metadata": {},
   "outputs": [
    {
     "name": "stdout",
     "output_type": "stream",
     "text": [
      "¡Hola! Bienvenido/a al mundo de las funciones.\n"
     ]
    }
   ],
   "source": [
    "def saludar():\n",
    "    \"\"\"Esta función simplemente imprime un saludo.\"\"\"\n",
    "    print(\"¡Hola! Bienvenido/a al mundo de las funciones.\")\n",
    "\n",
    "# Llamamos a la función para que se ejecute\n",
    "saludar()"
   ]
  },
  {
   "cell_type": "markdown",
   "metadata": {},
   "source": [
    "## 2. Función con parámetros, sin valor de retorno\n",
    "\n",
    "Las funciones pueden recibir datos a través de parámetros. Estos actúan como variables locales dentro de la función."
   ]
  },
  {
   "cell_type": "code",
   "execution_count": 10,
   "metadata": {},
   "outputs": [
    {
     "name": "stdout",
     "output_type": "stream",
     "text": [
      "¡Hola, Ana! Encantado de saludarte.\n",
      "¡Hola, Carlos! Encantado de saludarte.\n"
     ]
    }
   ],
   "source": [
    "def saludar_a(nombre):\n",
    "    \"\"\"Recibe un nombre y personaliza el saludo.\"\"\"\n",
    "    print(f\"¡Hola, {nombre}! Encantado de saludarte.\")\n",
    "\n",
    "# Llamamos a la función pasándole un argumento\n",
    "saludar_a(\"Ana\")\n",
    "saludar_a(\"Carlos\")"
   ]
  },
  {
   "cell_type": "markdown",
   "metadata": {},
   "source": [
    "## 3. Función con valor de retorno, sin parámetros\n",
    "\n",
    "La palabra clave `return` permite a una función devolver un valor (o resultado) al código que la llamó."
   ]
  },
  {
   "cell_type": "code",
   "execution_count": 11,
   "metadata": {},
   "outputs": [
    {
     "name": "stdout",
     "output_type": "stream",
     "text": [
      "El valor de Pi es aproximadamente: 3.141592653589793\n",
      "El doble de Pi es: 6.283185307179586\n"
     ]
    }
   ],
   "source": [
    "import math\n",
    "\n",
    "def obtener_pi():\n",
    "    \"\"\"Devuelve una aproximación del número Pi.\"\"\"\n",
    "    return math.pi\n",
    "\n",
    "# Llamamos a la función y guardamos el resultado en una variable\n",
    "valor_pi = obtener_pi()\n",
    "print(f\"El valor de Pi es aproximadamente: {valor_pi}\")\n",
    "print(f\"El doble de Pi es: {obtener_pi() * 2}\") # También se puede usar directamente"
   ]
  },
  {
   "cell_type": "markdown",
   "metadata": {},
   "source": [
    "## 4. Función con parámetros y valor de retorno\n",
    "\n",
    "Esta es la forma más común y versátil. La función recibe datos, los procesa y devuelve un resultado."
   ]
  },
  {
   "cell_type": "code",
   "execution_count": 12,
   "metadata": {},
   "outputs": [
    {
     "name": "stdout",
     "output_type": "stream",
     "text": [
      "5 + 3 = 8\n",
      "10.5 + 2.1 = 12.6\n"
     ]
    }
   ],
   "source": [
    "def sumar(num1, num2):\n",
    "    \"\"\"Recibe dos números y devuelve su suma.\"\"\"\n",
    "    resultado = num1 + num2\n",
    "    return resultado\n",
    "\n",
    "# Llamamos a la función y usamos el valor devuelto\n",
    "suma_total = sumar(5, 3)\n",
    "print(f\"5 + 3 = {suma_total}\")\n",
    "\n",
    "print(f\"10.5 + 2.1 = {sumar(10.5, 2.1)}\")"
   ]
  },
  {
   "cell_type": "markdown",
   "metadata": {},
   "source": [
    "## 5. Funciones y listas\n",
    "\n",
    "Vamos a crear una función para buscar un número flotante (`float`) en una lista de números."
   ]
  },
  {
   "cell_type": "markdown",
   "metadata": {},
   "source": [
    "\n",
    "### Enfoque 1: La función imprime si encuentra o no el elemento\n",
    "\n",
    "En este enfoque, la función se encarga de comunicar directamente al usuario el resultado mediante `print`. No devuelve ningún valor útil al programa principal."
   ]
  },
  {
   "cell_type": "code",
   "execution_count": 13,
   "metadata": {},
   "outputs": [
    {
     "name": "stdout",
     "output_type": "stream",
     "text": [
      "--- Búsqueda con impresión --- \n",
      "¡Encontrado! El valor 4.0 está en el índice 3.\n",
      "El valor 3.14 no se encontró en la lista.\n",
      "¡Encontrado! El valor 2.5 está en el índice 1.\n"
     ]
    }
   ],
   "source": [
    "def buscar_float_imprimir(lista_numeros, valor_buscado):\n",
    "    \"\"\"Busca un float en la lista e imprime si lo encontró o no.\n",
    "    \n",
    "    Args:\n",
    "        lista_numeros (list): Lista de números (int, float).\n",
    "        valor_buscado (float): El número flotante a buscar.\n",
    "    \"\"\"\n",
    "    encontrado = False # Usamos una bandera (flag)\n",
    "    for indice, elemento in enumerate(lista_numeros):\n",
    "        if elemento == valor_buscado:\n",
    "            print(f\"¡Encontrado! El valor {valor_buscado} está en el índice {indice}.\")\n",
    "            encontrado = True\n",
    "            break # Salimos del bucle una vez encontrado\n",
    "    \n",
    "    if not encontrado:\n",
    "        print(f\"El valor {valor_buscado} no se encontró en la lista.\")\n",
    "\n",
    "# Lista de ejemplo\n",
    "mis_numeros = [1, 2.5, 3, 4.0, 5, 6.75, 8]\n",
    "\n",
    "print(\"--- Búsqueda con impresión --- \")\n",
    "buscar_float_imprimir(mis_numeros, 4.0) # Caso encontrado\n",
    "buscar_float_imprimir(mis_numeros, 3.14) # Caso no encontrado\n",
    "buscar_float_imprimir(mis_numeros, 2.5) # Otro caso encontrado"
   ]
  },
  {
   "cell_type": "markdown",
   "metadata": {},
   "source": [
    "### Enfoque 2: La función devuelve el índice o `None`\n",
    "\n",
    "Este enfoque es más flexible. La función devuelve información útil (el índice donde encontró el elemento) que el programa principal puede usar. Si no lo encuentra, devuelve `None` (un valor especial en Python que indica ausencia de valor).\n",
    "\n",
    "El código que llama a la función debe verificar si el resultado es `None` para saber si la búsqueda tuvo éxito.\n",
    "\n",
    "Creamos así una función por separado que maneja la interfaz de usuario (que imprime) de la que solamente busca."
   ]
  },
  {
   "cell_type": "code",
   "execution_count": 14,
   "metadata": {},
   "outputs": [
    {
     "name": "stdout",
     "output_type": "stream",
     "text": [
      "\n",
      "--- Búsqueda con retorno de índice o None --- \n",
      "El valor 6.75 se encontró en el índice: 5\n",
      "El valor 9.99 no se encontró.\n"
     ]
    }
   ],
   "source": [
    "def buscar_float_retornar_indice(lista_numeros, valor_buscado):\n",
    "    \"\"\"Busca un float en la lista y devuelve su índice.\n",
    "    \n",
    "    Args:\n",
    "        lista_numeros (list): Lista de números (int, float).\n",
    "        valor_buscado (float): El número flotante a buscar.\n",
    "        \n",
    "    Returns:\n",
    "        int: El índice del primer elemento encontrado que coincide.\n",
    "        None: Si el elemento no se encuentra en la lista.\n",
    "    \"\"\"\n",
    "    for indice, elemento in enumerate(lista_numeros):\n",
    "        if elemento == valor_buscado:\n",
    "            return indice # Devuelve el índice inmediatamente\n",
    "            \n",
    "    # Si el bucle termina sin encontrar el elemento, devuelve None\n",
    "    return None \n",
    "\n",
    "\n",
    "\n",
    "        \n",
    "\n",
    "# Ejemplo de uso de la función\n",
    "mis_numeros = [1, 2.5, 3, 4.0, 5, 6.75, 8]\n",
    "numero_existente = 6.75\n",
    "numero_no_existente = 9.99\n",
    "\n",
    "# Caso encontrado\n",
    "indice_encontrado = buscar_float_retornar_indice(mis_numeros, numero_existente)\n",
    "if indice_encontrado is not None: # Comprobamos si el resultado NO es None\n",
    "    print(f\"El valor {numero_existente} se encontró en el índice: {indice_encontrado}\")\n",
    "else:\n",
    "    print(f\"El valor {numero_existente} no se encontró.\")\n",
    "\n",
    "# Caso no encontrado\n",
    "indice_encontrado = buscar_float_retornar_indice(mis_numeros, numero_no_existente)\n",
    "if indice_encontrado is not None:\n",
    "    print(f\"El valor {numero_no_existente} se encontró en el índice: {indice_encontrado}\")\n",
    "else:\n",
    "    print(f\"El valor {numero_no_existente} no se encontró.\")"
   ]
  },
  {
   "cell_type": "markdown",
   "metadata": {},
   "source": [
    "### Enfoque 3: La función devuelve un booleano (`True` / `False`)\n",
    "\n",
    "Si solo necesitamos saber *si* el elemento existe o no, pero no nos importa *dónde* está, podemos devolver un valor booleano."
   ]
  },
  {
   "cell_type": "code",
   "execution_count": 15,
   "metadata": {},
   "outputs": [
    {
     "name": "stdout",
     "output_type": "stream",
     "text": [
      "\n",
      "--- Búsqueda con retorno booleano --- \n",
      "El valor 2.5 sí existe en la lista.\n",
      "El valor 100.0 no existe en la lista.\n"
     ]
    }
   ],
   "source": [
    "def existe_float(lista_numeros, valor_buscado):\n",
    "    \"\"\"Verifica si un float existe en la lista.\n",
    "    \n",
    "    Args:\n",
    "        lista_numeros (list): Lista de números (int, float).\n",
    "        valor_buscado (float): El número flotante a buscar.\n",
    "        \n",
    "    Returns:\n",
    "        bool: True si el elemento existe, False en caso contrario.\n",
    "    \"\"\"\n",
    "    for elemento in lista_numeros:\n",
    "        if elemento == valor_buscado:\n",
    "            return True # Encontrado, devuelve True y termina\n",
    "            \n",
    "    return False # Si el bucle termina sin encontrarlo, devuelve False\n",
    "\n",
    "# Ejemplo de uso de la función\n",
    "mis_numeros = [1, 2.5, 3, 4.0, 5, 6.75, 8]\n",
    "\n",
    "if existe_float(mis_numeros, 2.5):\n",
    "    print(\"El valor 2.5 sí existe en la lista.\")\n",
    "else:\n",
    "    print(\"El valor 2.5 no existe en la lista.\")\n",
    "\n",
    "if existe_float(mis_numeros, 100.0):\n",
    "    print(\"El valor 100.0 sí existe en la lista.\")\n",
    "else:\n",
    "    print(\"El valor 100.0 no existe en la lista.\")"
   ]
  },
  {
   "cell_type": "markdown",
   "metadata": {},
   "source": [
    "## 6. Función con múltiples parámetros y retorno de tupla\n",
    "\n",
    "Las funciones pueden aceptar parámetros de diferentes tipos y devolver múltiples valores agrupados en una tupla.\n",
    "\n",
    "Una tupla es una colección ordenada e inmutable de elementos (similar a una lista, pero no se puede modificar después de crearla)."
   ]
  },
  {
   "cell_type": "code",
   "execution_count": 16,
   "metadata": {},
   "outputs": [
    {
     "name": "stdout",
     "output_type": "stream",
     "text": [
      "Total anual: €189300.50\n",
      "Promedio mensual: €15775.04\n",
      "Mes con mayor venta: 12\n"
     ]
    }
   ],
   "source": [
    "def analizar_ventas_mensuales(nombre_tienda, anio, ventas_mensuales):\n",
    "    \"\"\"\n",
    "    Analiza las ventas mensuales de una tienda.\n",
    "\n",
    "    Parámetros:\n",
    "    - nombre_tienda: nombre de la tienda (str)\n",
    "    - anio: año de las ventas (int)\n",
    "    - ventas_mensuales: lista de ventas por mes (list de floats)\n",
    "\n",
    "    Devuelve una tupla con:\n",
    "    - total_ventas: suma de todas las ventas del año (float)\n",
    "    - promedio_mensual: venta media por mes (float)\n",
    "    - mejor_mes: número de mes con mayor venta (1–12, int)\n",
    "    \"\"\"\n",
    "    # 1) Total de ventas\n",
    "    total_ventas = sum(ventas_mensuales)\n",
    "    # 2) Promedio mensual (evita división por cero)\n",
    "    promedio_mensual = total_ventas / len(ventas_mensuales) if ventas_mensuales else 0.0\n",
    "    # 3) Mes con mayor facturación (índice 1-based)\n",
    "    mejor_mes = ventas_mensuales.index(max(ventas_mensuales)) + 1 if ventas_mensuales else 0\n",
    "\n",
    "    return total_ventas, promedio_mensual, mejor_mes\n",
    "\n",
    "\n",
    "# Ejemplo de uso:\n",
    "ventas_tienda1_2024 = [12000.0, 15000.5, 13000.0, 14000.0, 16000.0, 15500.0,\n",
    "                17000.0, 16500.0, 15800.0, 17500.0, 18000.0, 19000.0]\n",
    "\n",
    "total, promedio, mes_top = analizar_ventas_mensuales(\"Tienda 1\", 2024, ventas_tienda1_2024)\n",
    "print(f\"Total anual: €{total:.2f}\")\n",
    "print(f\"Promedio mensual: €{promedio:.2f}\")\n",
    "print(f\"Mes con mayor venta: {mes_top}\")\n"
   ]
  }
 ],
 "metadata": {
  "kernelspec": {
   "display_name": ".venv",
   "language": "python",
   "name": "python3"
  },
  "language_info": {
   "codemirror_mode": {
    "name": "ipython",
    "version": 3
   },
   "file_extension": ".py",
   "mimetype": "text/x-python",
   "name": "python",
   "nbconvert_exporter": "python",
   "pygments_lexer": "ipython3",
   "version": "3.12.3"
  }
 },
 "nbformat": 4,
 "nbformat_minor": 4
}
