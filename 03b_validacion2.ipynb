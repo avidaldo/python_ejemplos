{
 "cells": [
  {
   "cell_type": "markdown",
   "metadata": {},
   "source": [
    "# Ejemplos de Validación de Inputs en Python\n",
    "\n",
    "En este notebook se muestran distintas soluciones para un ejercicio que solicita al usuario un número entero. Se presentan versiones que van desde una solución sencilla sin comprobaciones, hasta otras más avanzadas que validan el input utilizando diferentes técnicas:\n",
    "\n",
    "- **Versión 1:** Sin comprobaciones (se asume que el usuario introduce un entero correcto).\n",
    "- **Versión 2:** Uso de `try/except` para capturar errores en la conversión.\n",
    "- **Versión 3:** Comprobaciones usando `if` (con y sin bucle `while`), utilizando el método `str.isdigit()` para verificar el input.\n",
    "- **Versión 4:** Validación avanzada que, además de comprobar que el input es un número entero, verifica que el número se encuentre dentro de un rango (por ejemplo, entre 1 y 100).\n",
    "\n",
    "Cada celda de código incluye comentarios que explican su funcionamiento."
   ]
  },
  {
   "cell_type": "code",
   "execution_count": null,
   "metadata": {},
   "outputs": [],
   "source": [
    "# Versión 1: Solución sin comprobaciones\n",
    "# Esta solución asume que el usuario introduce un número entero válido.\n",
    "# Si se introduce un valor no convertible a entero se producirá un error en tiempo de ejecución.\n",
    "\n",
    "numero = int(input('Introduce un número entero: '))\n",
    "print('El número introducido es:', numero)"
   ]
  },
  {
   "cell_type": "markdown",
   "metadata": {},
   "source": [
    "### Versión 2: Validación con try/except\n",
    "\n",
    "Esta versión utiliza un bucle `while True` junto con un bloque `try/except` para capturar errores (como `ValueError`) al intentar convertir el input a entero. Si el usuario introduce un valor incorrecto, se muestra un mensaje de error y se solicita nuevamente el input."
   ]
  },
  {
   "cell_type": "code",
   "execution_count": null,
   "metadata": {},
   "outputs": [],
   "source": [
    "# Versión 2: Validación con try/except\n",
    "while True:\n",
    "    try:\n",
    "        numero = int(input('Introduce un número entero: '))\n",
    "        break  # Si la conversión es exitosa, salimos del bucle\n",
    "    except ValueError:\n",
    "        print('Error: Debes introducir un número entero válido. Inténtalo de nuevo.')\n",
    "\n",
    "print('El número introducido es:', numero)"
   ]
  },
  {
   "cell_type": "markdown",
   "metadata": {},
   "source": [
    "### Versión 3: Validación con if y comprobación manual\n",
    "\n",
    "En esta versión se utiliza el método `str.isdigit()` para comprobar si el input es numérico. Se emplea `lstrip('-')` para permitir números negativos. \n",
    "\n",
    "#### Variante 3 sin bucle\n",
    "Se comprueba el input una única vez y se muestra un mensaje de error si no es válido."
   ]
  },
  {
   "cell_type": "code",
   "execution_count": null,
   "metadata": {},
   "outputs": [],
   "source": [
    "# Versión 3: Comprobación sin try/except usando if\n",
    "numero_str = input('Introduce un número entero: ')\n",
    "\n",
    "if numero_str.lstrip('-').isdigit():\n",
    "    numero = int(numero_str)\n",
    "    print('El número introducido es:', numero)\n",
    "else:\n",
    "    print('Error: El valor introducido no es un número entero válido.')"
   ]
  },
  {
   "cell_type": "markdown",
   "metadata": {},
   "source": [
    "#### Variante 3.1: Con bucle while\n",
    "Esta variante mejora la anterior al incluir un bucle que continúa solicitando el input hasta que se introduce un valor correcto."
   ]
  },
  {
   "cell_type": "code",
   "execution_count": null,
   "metadata": {},
   "outputs": [],
   "source": [
    "# Versión 3.1: Validación con while y if\n",
    "while True:\n",
    "    numero_str = input('Introduce un número entero: ')\n",
    "    if numero_str.lstrip('-').isdigit():\n",
    "        numero = int(numero_str)\n",
    "        break\n",
    "    else:\n",
    "        print('Error: Debes introducir un número entero válido. Inténtalo de nuevo.')\n",
    "\n",
    "print('El número introducido es:', numero)"
   ]
  },
  {
   "cell_type": "markdown",
   "metadata": {},
   "source": [
    "### Versión 4: Validación avanzada con comprobación de rango\n",
    "\n",
    "Estas variantes no solo validan que el input sea un número entero, sino que además verifican que el número se encuentre dentro de un rango específico (por ejemplo, entre 1 y 100).\n",
    "\n",
    "#### Variante 4 usando comprobaciones con if\n",
    "Se utiliza un bucle con comprobaciones anidadas: primero se valida que el input sea un número, y luego se comprueba que esté dentro del rango deseado."
   ]
  },
  {
   "cell_type": "code",
   "execution_count": null,
   "metadata": {},
   "outputs": [],
   "source": [
    "# Versión 4: Validación avanzada usando ifs\n",
    "while True:\n",
    "    numero_str = input('Introduce un número entero entre 1 y 100: ')\n",
    "    if numero_str.lstrip('-').isdigit():\n",
    "        numero = int(numero_str)\n",
    "        if 1 <= numero <= 100:\n",
    "            break\n",
    "        else:\n",
    "            print('Error: El número debe estar entre 1 y 100. Inténtalo de nuevo.')\n",
    "    else:\n",
    "        print('Error: Debes introducir un número entero válido. Inténtalo de nuevo.')\n",
    "\n",
    "print('El número introducido es:', numero)"
   ]
  },
  {
   "cell_type": "markdown",
   "metadata": {},
   "source": [
    "#### Variante 4.1: Validación avanzada con try/except\n",
    "Esta variante combina el uso de `try/except` para la conversión a entero con la comprobación del rango dentro del mismo bucle."
   ]
  },
  {
   "cell_type": "code",
   "execution_count": null,
   "metadata": {},
   "outputs": [],
   "source": [
    "# Versión 4.1: Validación avanzada con try/except\n",
    "while True:\n",
    "    try:\n",
    "        numero = int(input('Introduce un número entero entre 1 y 100: '))\n",
    "        if 1 <= numero <= 100:\n",
    "            break\n",
    "        else:\n",
    "            print('Error: El número debe estar entre 1 y 100. Inténtalo de nuevo.')\n",
    "    except ValueError:\n",
    "        print('Error: Debes introducir un número entero válido. Inténtalo de nuevo.')\n",
    "\n",
    "print('El número introducido es:', numero)"
   ]
  }
 ],
 "metadata": {
  "kernelspec": {
   "display_name": "Python 3",
   "language": "python",
   "name": "python3"
  },
  "language_info": {
   "name": "python",
   "version": "3.x"
  }
 },
 "nbformat": 4,
 "nbformat_minor": 2
}
