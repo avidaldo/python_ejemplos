{
 "cells": [
  {
   "cell_type": "markdown",
   "metadata": {},
   "source": [
    "Ejemplo 5.2: variante manejado listas coordinadas por el índice:"
   ]
  },
  {
   "cell_type": "code",
   "execution_count": 6,
   "metadata": {},
   "outputs": [],
   "source": [
    "ciudades = ['Vigo' , 'Lugo' , 'A Coruña' , 'Santiago' ]\n",
    "produccion = [731 , 238 , 801 , 512]\n",
    "defectuosas = [23 , 12 , 26 , 17]\n",
    "costes = [3489.54 , 3823.35 , 3324.12 , 3325.89 ]"
   ]
  },
  {
   "cell_type": "markdown",
   "metadata": {},
   "source": [
    "Añadiendo elemento mal con append (si se hace append de una lista, se añade la lista como un elemento más, no cada uno de los elementos de la lista):"
   ]
  },
  {
   "cell_type": "code",
   "execution_count": 7,
   "metadata": {},
   "outputs": [
    {
     "name": "stdout",
     "output_type": "stream",
     "text": [
      "[731, 238, 801, 512, [100, 200]]\n"
     ]
    }
   ],
   "source": [
    "produccion_list = input(\"Introduce la produccion de las nuevas ciudades: \").split()\n",
    "for i, valor in enumerate(produccion_list):\n",
    "    produccion_list[i] = int(valor)\n",
    "produccion.append(produccion_list)\n",
    "\n",
    "print(produccion)"
   ]
  },
  {
   "cell_type": "markdown",
   "metadata": {},
   "source": [
    "Añadiendo correctamente con append:"
   ]
  },
  {
   "cell_type": "code",
   "execution_count": 8,
   "metadata": {},
   "outputs": [
    {
     "name": "stdout",
     "output_type": "stream",
     "text": [
      "[731, 238, 801, 512, [100, 200], 300, 400]\n"
     ]
    }
   ],
   "source": [
    "produccion_list = input(\"Introduce la produccion de las nuevas ciudades: \").split()\n",
    "for i, valor in enumerate(produccion_list):\n",
    "    produccion.append(int(valor))\n",
    "    \n",
    "print(produccion)"
   ]
  },
  {
   "cell_type": "markdown",
   "metadata": {},
   "source": [
    "De manera más simple:"
   ]
  },
  {
   "cell_type": "code",
   "execution_count": 9,
   "metadata": {},
   "outputs": [
    {
     "name": "stdout",
     "output_type": "stream",
     "text": [
      "[731, 238, 801, 512, [100, 200], 300, 400, 500, 600]\n"
     ]
    }
   ],
   "source": [
    "produccion_list = input(\"Introduce la produccion de las nuevas ciudades: \").split()\n",
    "for valor in produccion_list:\n",
    "    produccion.append(int(valor))\n",
    "    \n",
    "print(produccion)"
   ]
  }
 ],
 "metadata": {
  "kernelspec": {
   "display_name": "base",
   "language": "python",
   "name": "python3"
  },
  "language_info": {
   "codemirror_mode": {
    "name": "ipython",
    "version": 3
   },
   "file_extension": ".py",
   "mimetype": "text/x-python",
   "name": "python",
   "nbconvert_exporter": "python",
   "pygments_lexer": "ipython3",
   "version": "3.12.3"
  }
 },
 "nbformat": 4,
 "nbformat_minor": 2
}
